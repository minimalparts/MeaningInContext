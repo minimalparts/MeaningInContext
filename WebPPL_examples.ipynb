{
 "cells": [
  {
   "cell_type": "markdown",
   "metadata": {},
   "source": [
    "# How to marry a star: probabilistic constraints for meaning in context\n",
    "\n",
    "## Katrin Erk and Aurelie Herbelot, August 2020\n",
    "\n",
    "## WebPPL experiments for the paper\n",
    "\n",
    "# Version 1 of the generative story: global constraints only\n",
    "\n",
    "## Version 1 step 1: Drawing a collection of high-level frames\n",
    "\n",
    "This experiment illustrates how the probability of drawing on one versus two scenarios within a single situation description depends on the Dirichlet concentration parameter alpha. \n",
    "\n",
    "We use the output of \n",
    "\n",
    "`webppl version1.wppl > version1out.txt`\n",
    "\n",
    "This script has two scenarios only:\n",
    "* Scenario 0: gothic. Concepts: Bat/animal, Vampire\n",
    "* Scenario 1: baseball. Concepts: Bat/stick, Player\n",
    "\n",
    "\n",
    "This particular output was produced with the following output:\n",
    "* 2000 samples\n",
    "* concentration parameter alpha = 0.5\n",
    "* each SD has to have between 1 and 4 referents. "
   ]
  },
  {
   "cell_type": "code",
   "execution_count": 1,
   "metadata": {},
   "outputs": [
    {
     "ename": "ImportError",
     "evalue": "No module named 'wpplout'",
     "output_type": "error",
     "traceback": [
      "\u001b[0;31m---------------------------------------------------------------------------\u001b[0m",
      "\u001b[0;31mImportError\u001b[0m                               Traceback (most recent call last)",
      "\u001b[0;32m<ipython-input-1-f31bc7357e9a>\u001b[0m in \u001b[0;36m<module>\u001b[0;34m\u001b[0m\n\u001b[1;32m      1\u001b[0m \u001b[0;31m# Reading in the data\u001b[0m\u001b[0;34m\u001b[0m\u001b[0;34m\u001b[0m\u001b[0m\n\u001b[1;32m      2\u001b[0m \u001b[0;34m\u001b[0m\u001b[0m\n\u001b[0;32m----> 3\u001b[0;31m \u001b[0;32mimport\u001b[0m \u001b[0mwpplout\u001b[0m\u001b[0;34m\u001b[0m\u001b[0m\n\u001b[0m\u001b[1;32m      4\u001b[0m \u001b[0msamples\u001b[0m \u001b[0;34m=\u001b[0m \u001b[0mwpplout\u001b[0m\u001b[0;34m.\u001b[0m\u001b[0mparse_webppl_groupformat\u001b[0m\u001b[0;34m(\u001b[0m\u001b[0;34m\"wppl/version1out.txt\"\u001b[0m\u001b[0;34m)\u001b[0m\u001b[0;34m\u001b[0m\u001b[0m\n",
      "\u001b[0;31mImportError\u001b[0m: No module named 'wpplout'"
     ]
    }
   ],
   "source": [
    "# Reading in the data\n",
    "\n",
    "import wpplout\n",
    "samples = wpplout.parse_webppl_groupformat(\"wppl/version1out.txt\")\n"
   ]
  },
  {
   "cell_type": "markdown",
   "metadata": {},
   "source": [
    "How often did we get 1, 2, 3, or 4 referents? This is about equal, which makes sense, since we drew the number of referents from a uniform distribution:"
   ]
  },
  {
   "cell_type": "code",
   "execution_count": null,
   "metadata": {
    "scrolled": true
   },
   "outputs": [],
   "source": [
    "wpplout.webppl_groupformat_referentspd(samples)"
   ]
  },
  {
   "cell_type": "markdown",
   "metadata": {},
   "source": [
    "How often did we get only tokens of scenario 1, only tokens of scenario 2, tokens of both?"
   ]
  },
  {
   "cell_type": "code",
   "execution_count": null,
   "metadata": {},
   "outputs": [],
   "source": [
    "wpplout.webppl_groupformat_scenariopd(samples)"
   ]
  },
  {
   "cell_type": "markdown",
   "metadata": {},
   "source": [
    "Now both together: How often did we get samples with 1, 2, 3, 4 referents, and what scenarios did they have?"
   ]
  },
  {
   "cell_type": "code",
   "execution_count": null,
   "metadata": {},
   "outputs": [],
   "source": [
    "wpplout.webppl_groupformat_scenarios_referentspd(samples)"
   ]
  },
  {
   "cell_type": "markdown",
   "metadata": {},
   "source": [
    "### Now with alpha = 0.1\n",
    "\n",
    "To re-run this, edit `version1.wppl` to set alpha to 0.1.\n",
    "\n",
    "`webppl version1.wppl > version1out_alpha01.txt`\n"
   ]
  },
  {
   "cell_type": "code",
   "execution_count": null,
   "metadata": {},
   "outputs": [],
   "source": [
    "samples01 = wpplout.parse_webppl_groupformat(\"wppl/version1out_alpha01.txt\")\n",
    "wpplout.webppl_groupformat_scenariopd(samples01)"
   ]
  },
  {
   "cell_type": "markdown",
   "metadata": {},
   "source": [
    "## Version 1 step 2: concepts sampled from the scenarios\n",
    "\n",
    "\n",
    "We use the exact same sample of 2000 situation descriptions from above. What kinds of sampled concepts are we seeing?\n",
    "\n",
    "All concepts have been set to be to be equally likely within a scenario."
   ]
  },
  {
   "cell_type": "code",
   "execution_count": null,
   "metadata": {},
   "outputs": [],
   "source": [
    "import pandas as pd\n",
    "\n",
    "pd.set_option('display.max_colwidth', 1000)\n",
    "\n",
    "wpplout.webppl_groupformat_concepts_referentspd(samples).head(20)"
   ]
  },
  {
   "cell_type": "markdown",
   "metadata": {},
   "source": [
    "## Version 1 step 3: Feature vectors sampled from the concepts\n",
    "\n",
    "\n",
    "We use the exact same sample of 2000 situation descriptions from above. What kinds of sampled feature vectors are we seeing? We also show the concepts.\n",
    "\n",
    "Probabilities of truth are as follows. For \"bat\", we have used the truth probabilities from the Quantified McRae norms of Herbelot and Vecchi wherever possible.\n",
    "\n",
    "* Bat-animal:\n",
    "  * \"bat\" 1.0, \"vampire\" 0.01, \"player\" 0.01, \"have_wings\" 1.0 (McRae), \"fly\" 1.0 (McRae), \"humanlike\" 0.0, \"athletic\" 0.01, \"wooden\" 0.001\n",
    "* Vampire:\n",
    "  * \"bat\" 0.01, \"vampire\" 1.0, \"player\" 0.01, \"have_wings\" 0.2, \"fly\" 0.2, \"humanlike\" 0.99, \"athletic\" 0.1, \"wooden\" 0.001\n",
    "* Bat-stick\n",
    "  * \"bat\" 1.0, \"vampire\" 0.0, \"player\" 0.0, \"have_wings\" 0.01, \"fly\" 0.01, \"humanlike\" 0.0, \"athletic\" 0.0, \"wooden\" 0.75 (QMcRae)\n",
    "* Player \n",
    "  * \"bat\" 0.0, \"vampire\" 0.001, \"player\" 1.0, \"have_wings\" 0.01, \"fly\" 0.01, \"humanlike\" 0.99, \"athletic\" 0.8, \"wooden\" 0.001\n"
   ]
  },
  {
   "cell_type": "code",
   "execution_count": null,
   "metadata": {},
   "outputs": [],
   "source": [
    "df = wpplout.webppl_groupformat_fvectors_pd(samples)\n",
    "df.sort_values('prob',ascending=False).head(20)\n"
   ]
  },
  {
   "cell_type": "markdown",
   "metadata": {},
   "source": [
    "## Version 1 DRS conditions\n",
    "\n",
    "We use the exact same sample of 2000 situation descriptions from above. What conditions are being generated? We also show the concepts.\n",
    "\n",
    "Probabilities of truth are as follows. For bat, we have used the salience probabilities from the McRae norms wherever possible.\n",
    "\n",
    "\"vampire\", \"player\", \"have_wings\", \"fly\", \"humanlike\", \"athletic\", \"wooden\"\n",
    "* Bat-animal\n",
    "  * bat: 1.0, vampire: 0.01, player: 0.0, have_wings: 0.867 (McRae), fly: 0.633 (McRae), humanlike: 0.0, athletic: 0.0, wooden: 0.0\n",
    "* Vampire\n",
    "  * bat 0.0, vampire 1.0, player 0.0, have_wings 0.1, fly 0.1, humanlike 0.1, athletic 0.0, wooden 0.0\n",
    "* Bat-stick\n",
    "  * bat 1.0, vampire 0.0, player 0.0, have_wings 0.0, fly 0.0, humanlike 0.0, athletic 0.0, wooden 0.733 (McRae)\n",
    "* Player\n",
    "  * bat 0.0, vampire 0.0, player 1.0, have_wings 0.0, fly 0.0, humanlike 0.0, athletic 0.6, wooden 0.0\n",
    " "
   ]
  },
  {
   "cell_type": "code",
   "execution_count": null,
   "metadata": {},
   "outputs": [],
   "source": [
    "wpplout.webppl_groupformat_conditions_pd(samples).sort_values(\"prob\", \n",
    "                                                              ascending = False).head(20)"
   ]
  },
  {
   "cell_type": "markdown",
   "metadata": {},
   "source": [
    "## Version 1, with utterance\n",
    "\n",
    "We now want to show what happens when reasoning starts from a given utterance. \n",
    "\n",
    "Everything up to now was an analysis of the same set of 2000 samples. But for the with-utterance case, we need to get a new set of samples.\n",
    "\n",
    "* Referents: again between 1 and 4, including the ones in the utterance\n",
    "* parameters: all the same as above\n",
    "\n",
    "A version 1 of the generative story does not have semantic roles, our utterances are very simplistic. One is \"vampire\", the other is the empty utterance.\n",
    "\n",
    "### \"Vampire\"\n",
    "\n",
    "The first utterance is \"vampire\". What we want to show with that is that when you have an utterance that comes from scenario \"Gothic\", you are more likely to sample the rest of the utterance from \"Gothic\" rather than from \"Baseball\". That is, we want to show that our model tends to stick with the same scenario when it generates additional entities.\n",
    "\n",
    "call:\n",
    "\n",
    "`` webppl version1_utterance.wppl > vampireout.txt``\n"
   ]
  },
  {
   "cell_type": "code",
   "execution_count": null,
   "metadata": {},
   "outputs": [],
   "source": [
    "vampire_samples = wpplout.parse_webppl_groupformat(\"wppl/vampireout.txt\")\n"
   ]
  },
  {
   "cell_type": "markdown",
   "metadata": {},
   "source": [
    "What does the scenario distribution look like now?"
   ]
  },
  {
   "cell_type": "code",
   "execution_count": null,
   "metadata": {},
   "outputs": [],
   "source": [
    "wpplout.webppl_groupformat_scenariopd(vampire_samples)"
   ]
  },
  {
   "cell_type": "markdown",
   "metadata": {},
   "source": [
    "Let's visualize this."
   ]
  },
  {
   "cell_type": "code",
   "execution_count": null,
   "metadata": {},
   "outputs": [],
   "source": [
    "df_scenarios = wpplout.webppl_groupformat_scenariopd(samples)\n",
    "df_scenarios_vampire = wpplout.webppl_groupformat_scenariopd(vampire_samples)\n",
    "\n",
    "# combine the two data frames for visualization\n",
    "viz_df = df_scenarios.merge(df_scenarios_vampire, \n",
    "                             left_on = \"scenarios\", \n",
    "                             right_on = \"scenarios\", \n",
    "                             how = \"left\").fillna(0)\n",
    "\n",
    "viz_df = viz_df.set_index(\"scenarios\")\n",
    "viz_df.columns = [\"--\", \"vampire\"]\n",
    "\n",
    "# and plot\n",
    "%matplotlib inline\n",
    "\n",
    "ax = viz_df.plot.bar(title = \"Scenario percentages with no utterance vs. utterance 'vampire'\",\n",
    "               rot = 0)\n",
    "ax.set_xlabel(\"\");\n"
   ]
  },
  {
   "cell_type": "markdown",
   "metadata": {},
   "source": [
    "### Utterance \"bat\" versus \"vampire, bat\"\n",
    "\n",
    "Reminder: In version 1, we can only utter unconnected lists of words. The question with the utterance \"vampire, bat\" is: How often is this understood as bat-animal, how often as bat-stick? We compare this to an utterance that is simply \"bat\", where we expect to get each reading of \"bat\" equally often. \n",
    "\n",
    "What this example will hopefully show is that high-level constraints can disambiguate words, like in \"the player ran to the ball\" versus \"the violinist ran to the ball\". \n",
    "\n",
    "All parameters as with the utterance \"vampire\".\n",
    "\n",
    "Making samples for the utterance \"bat\":\n",
    "\n",
    "``webppl version1_utterance.wppl > batout.txt``\n",
    "\n",
    "Making sample for the utterance \"vampire, bat\":\n",
    "\n",
    "``webppl version1_utterance.wppl > vampirebatout.txt``\n",
    "\n"
   ]
  },
  {
   "cell_type": "code",
   "execution_count": null,
   "metadata": {},
   "outputs": [],
   "source": [
    "# utterance \"bat\"\n",
    "bat_samples = wpplout.parse_webppl_groupformat(\"wppl/batout.txt\")\n",
    "wpplout.webppl_probbats(bat_samples)"
   ]
  },
  {
   "cell_type": "code",
   "execution_count": null,
   "metadata": {},
   "outputs": [],
   "source": [
    "# utterance \"vampire, bat\"\n",
    "vampirebat_samples = wpplout.parse_webppl_groupformat(\"wppl/vampirebatout.txt\")\n",
    "wpplout.webppl_probbats(vampirebat_samples)"
   ]
  },
  {
   "cell_type": "code",
   "execution_count": null,
   "metadata": {},
   "outputs": [],
   "source": [
    "# and visualizing the whole thing\n",
    "df_bat = wpplout.webppl_probbats(bat_samples)\n",
    "df_vampirebat = wpplout.webppl_probbats(vampirebat_samples)\n",
    "\n",
    "# combine the two data frames for visualization\n",
    "viz_df = df_bat.merge(df_vampirebat, \n",
    "                             left_on = \"Concept\", \n",
    "                             right_on = \"Concept\", \n",
    "                             how = \"left\").fillna(0)\n",
    "\n",
    "viz_df = viz_df.set_index(\"Concept\")\n",
    "viz_df.columns = [\"bat\", \"vampire, bat\"]\n",
    "\n",
    "\n",
    "# and plot\n",
    "%matplotlib inline\n",
    "\n",
    "ax = viz_df.plot.bar(title = \"Probability of 'bat' senses for the utterances 'bat', and 'vampire, bat'\",\n",
    "               rot = 0)\n",
    "ax.set_xlabel(\"\");"
   ]
  },
  {
   "cell_type": "markdown",
   "metadata": {},
   "source": [
    "So when the utterance is \"vampire, bat\", the \"animal\" reading is preferred, but this is only a soft preference, no hard constraint. (If alpha were smaller, we would get a higher count of animals.)"
   ]
  },
  {
   "cell_type": "markdown",
   "metadata": {},
   "source": [
    "# Version 2: With selectional constraints\n",
    "\n",
    "Version 2 of the generative model has semantic roles with selectional constraints. \n",
    "\n",
    "## Hard constraints\n",
    "\n",
    "We can model hard selectional constraints, for example in order to say that ideas cannot sleep (using Chomsky's famous sentence). Here is the result of 2000 samples of situation descriptions each containing a Bat, an Idea, and a Sleeping event. The Sleeping event is set to have Agent as a mandatory role, and insists on the agent being animate. \n",
    "\n",
    "In 100% of the samples, we get that the Agent of the Sleeping event is the bat, not the idea. \n",
    "\n",
    "Parameters:\n",
    "* 2000 samples\n",
    "* scenario: gothic\n",
    "* concepts: Sleep, Bat-animal, Idea\n",
    "* features: bat, sleep, idea, animate\n",
    "* truth probabilities for Bat: animate 1.0, bat 1.0, idea 0.0\n",
    "* truth probabilities for Idea: animate 0.0, bat 0.0, idea 1.0\n",
    "* realization probability of Agent for Sleep: 1.0\n",
    "* selectional probabilities: probability of generating a (single-feature) selectional vector for Sleep/Agent: animate: 1.0 \n",
    "\n",
    "Call:\n",
    "\n",
    "```webppl role_sleep.wppl > rolesleepout.txt```\n",
    "\n",
    "Parsing the output:"
   ]
  },
  {
   "cell_type": "code",
   "execution_count": 2,
   "metadata": {},
   "outputs": [
    {
     "ename": "NameError",
     "evalue": "name 'wpplout' is not defined",
     "output_type": "error",
     "traceback": [
      "\u001b[0;31m---------------------------------------------------------------------------\u001b[0m",
      "\u001b[0;31mNameError\u001b[0m                                 Traceback (most recent call last)",
      "\u001b[0;32m<ipython-input-2-4584307dc644>\u001b[0m in \u001b[0;36m<module>\u001b[0;34m\u001b[0m\n\u001b[0;32m----> 1\u001b[0;31m \u001b[0mwpplout\u001b[0m\u001b[0;34m.\u001b[0m\u001b[0mparse_webppl_groupformat_eventspd\u001b[0m\u001b[0;34m(\u001b[0m\u001b[0;34m\"wppl/rolesleepout.txt\"\u001b[0m\u001b[0;34m)\u001b[0m\u001b[0;34m\u001b[0m\u001b[0m\n\u001b[0m",
      "\u001b[0;31mNameError\u001b[0m: name 'wpplout' is not defined"
     ]
    }
   ],
   "source": [
    "wpplout.parse_webppl_groupformat_eventspd(\"wppl/rolesleepout.txt\")"
   ]
  },
  {
   "cell_type": "markdown",
   "metadata": {},
   "source": [
    "## Soft constraints\n",
    "\n",
    "Next we demonstrate soft selectional preferences: The verb *eat* prefers its direct object to be edible, though it can also be used on non-edible objects sometimes. We have a baseball scenario containing a bat-stick, an apple, and an eating event. (We omit to specify the agent here, but presumably that would be a player.)\n",
    "\n",
    "Parameters:\n",
    "* 2000 samples\n",
    "* scenario: baseball\n",
    "* concepts: Apple, Bat-stick, Eat\n",
    "* features: apple, bat, eat, edible, object\n",
    "* truth probabilities for Apple: apple 1.0, bat 0.0, eat 0.0, edible 0.98, object 1.0\n",
    "* truth probabilities for Bat-stick: apple 0.0, bat 1.0, eat 0.0, edible 0.01, object 1.0\n",
    "* realization probability of Patient for Eat: 1.0 (mandatory)\n",
    "* selectional probabilities: probability of generating a (single-feature) selectional vector for Eat/Patient: \"edible\" 1.0, \"object\" 0.05. (sometimes non-edible objects get eaten.)\n",
    "\n",
    "Call:\n",
    "\n",
    "```webppl role_apple_bat.wppl > roleapplebatout.txt```\n",
    "\n",
    "Results:"
   ]
  },
  {
   "cell_type": "code",
   "execution_count": null,
   "metadata": {},
   "outputs": [],
   "source": [
    "wpplout.parse_webppl_groupformat_eventspd(\"wppl/roleapplebatout.txt\")"
   ]
  },
  {
   "cell_type": "markdown",
   "metadata": {},
   "source": []
  },
  {
   "cell_type": "markdown",
   "metadata": {},
   "source": [
    "# Version 3: concept combination\n",
    "\n",
    "Version 3 of the generative model has head-modifier combination.\n",
    "\n",
    "## Fanged bat-animal\n",
    "\n",
    "The first thing we try is to compare features sampled for \"bat\" to features sampled for \"fanged bat\".\n",
    "In this experiment, we hard-code in the program that we sample from a concept combination of \"fanged\" with \"bat\". \n",
    "\n",
    "For this experiment, parameters were set as follows:\n",
    "\n",
    "* no Dirichlet, as we're currently doing a single concept only, so no scenarios\n",
    "* 2000 samples \n",
    "* truth probabilities for \"bat\": from Quantified McRae. \n",
    "* truth probabilities for \"fanged\": 1.0 for \"fanged\", 0.999 for \"animal\", 0.01 for everything else\n",
    "* salience probabilities for \"bat\": relative mention frequencies from McRae.\n",
    "* salience probabilities for \"fanged\" :1.0 for \"fanged\", 0.0 for everything else\n",
    "* voting importance probabilities: set automatically based on truth probabilities. Whenever truth probability was within threshold 0.001 of either 1.0 or 0.0, voting importance was set to 1.0. Otherwise, voting importance was set to be equal to salience probability. \n",
    "\n",
    "We cut down the number of features to make it possible to show all the numbers in a graph. These are the ones we used:\n",
    "\n",
    "    \"bat\", \"has_wings\", \"nocturnal\", \"furry\", \"animal\", \"screeches\", \"has_fangs\", \"associated_with_vampires\"\n",
    "\n",
    "Output with \"bat\" on its own:\n",
    "\n",
    "``webppl bat.wppl > ccomb_batout.txt``\n",
    "\n",
    "Output for the concept combination \"fanged bat\":\n",
    "\n",
    "``webppl fangedbat.wppl > ccomb_fangedbatout.txt``\n"
   ]
  },
  {
   "cell_type": "code",
   "execution_count": null,
   "metadata": {},
   "outputs": [],
   "source": [
    "# Empirical feature probabilities \n",
    "# in the samples of \"bat\" on its own\n",
    "ccbat_samples = wpplout.parse_webppl_groupformat(\"wppl/ccomb_batout.txt\")\n",
    "wpplout.webppl_groupformat_featureprob(ccbat_samples)"
   ]
  },
  {
   "cell_type": "code",
   "execution_count": null,
   "metadata": {},
   "outputs": [],
   "source": [
    "# Empirical feature probabilities \n",
    "# in the samples of \"fanged bat\"\n",
    "ccfangedbat_samples = wpplout.parse_webppl_groupformat(\"wppl/ccomb_fangedbatout.txt\")\n",
    "wpplout.webppl_groupformat_featureprob(ccfangedbat_samples)\n"
   ]
  },
  {
   "cell_type": "markdown",
   "metadata": {},
   "source": [
    "And graphically:"
   ]
  },
  {
   "cell_type": "code",
   "execution_count": null,
   "metadata": {},
   "outputs": [],
   "source": [
    "df_ccbat = wpplout.webppl_groupformat_featureprob(ccbat_samples)\n",
    "df_ccfanged = wpplout.webppl_groupformat_featureprob(ccfangedbat_samples)\n",
    "\n",
    "\n",
    "# combine the two data frames for visualization\n",
    "viz_df = df_ccbat.merge(df_ccfanged, \n",
    "                             left_on = \"feature\", \n",
    "                             right_on = \"feature\", \n",
    "                             how = \"left\").fillna(0)\n",
    "\n",
    "viz_df = viz_df.set_index(\"feature\")\n",
    "viz_df.columns = [\"bat\", \"fanged bat\"]\n",
    "\n",
    "\n",
    "# and plot\n",
    "%matplotlib inline\n",
    "\n",
    "ax = viz_df.plot.bar(title = \"Empirical feature probabilities for Bat-animal, Fanged + Bat-animal'\", \n",
    "                     rot = 0, figsize = (14, 5))\n",
    "ax.legend(loc='upper left')\n",
    "ax.set_xlabel(\"\");"
   ]
  },
  {
   "cell_type": "markdown",
   "metadata": {},
   "source": [
    "## Pet fish\n",
    "\n",
    "We do the exact same thing with Hampton's \"pet fish\" example.\n",
    "\n",
    "Parameters:\n",
    "\n",
    "* single scenario, \"Animals\"\n",
    "* concepts: Pet, Fish\n",
    "* 2000 samples\n",
    "* truth probabilities for Pet:\n",
    "\"pet\" 1.0, \"fish\" 0.1, \"lives_in_home\" 1.0, \"eaten\" 0.001, \"gills_rather_than_lungs\" 0.1, \"legs_rather_than_fins\" 0.9\n",
    "* truth probabilities for Fish:\n",
    "\"pet\" 0.1, \"fish\" 1.0, \"lives_in_home\" 0.1, \"eaten\" 0.9, \"gills\" 1.0, \"legs\" 0.0\n",
    "* salience probabilities for Pet:\n",
    "\"pet\" 1.0, \"fish\" 0.0, \"lives_in_home\" 0.8, \"eaten\" 0.2, \"gills\" 0.1, \"legs\" 0.1\n",
    "* salience probabilities for Fish:\n",
    "\"pet\" 0.01, \"fish\" 1.0, \"lives_in_home\" 0.1, \"eaten\" 0.5, \"gills\" 0.5, \"legs\" 0.5\n",
    "* importance probability computed automatically as before, threshold 0.001\n",
    "\n",
    "We are using the same script for all three outputs, just commenting away different options for which concepts are used.\n",
    "\n",
    "Sampling pets:\n",
    "\n",
    "``webppl concept_combination_petfish.wppl > ccomb_pet.txt``\n",
    "\n",
    "Sampling fish:\n",
    "\n",
    "``webppl concept_combination_petfish.wppl > ccomb_fish.txt``\n",
    "\n",
    "Sampling pet fish:\n",
    "\n",
    "``webppl concept_combination_petfish.wppl > ccomb_petfish.txt``\n",
    "\n",
    "Here is a visualization:"
   ]
  },
  {
   "cell_type": "code",
   "execution_count": 3,
   "metadata": {},
   "outputs": [
    {
     "ename": "NameError",
     "evalue": "name 'wpplout' is not defined",
     "output_type": "error",
     "traceback": [
      "\u001b[0;31m---------------------------------------------------------------------------\u001b[0m",
      "\u001b[0;31mNameError\u001b[0m                                 Traceback (most recent call last)",
      "\u001b[0;32m<ipython-input-3-a96d306b9b2c>\u001b[0m in \u001b[0;36m<module>\u001b[0;34m\u001b[0m\n\u001b[0;32m----> 1\u001b[0;31m \u001b[0mccpet_samples\u001b[0m \u001b[0;34m=\u001b[0m \u001b[0mwpplout\u001b[0m\u001b[0;34m.\u001b[0m\u001b[0mparse_webppl_groupformat\u001b[0m\u001b[0;34m(\u001b[0m\u001b[0;34m\"wppl/ccomb_pet.txt\"\u001b[0m\u001b[0;34m)\u001b[0m\u001b[0;34m\u001b[0m\u001b[0m\n\u001b[0m\u001b[1;32m      2\u001b[0m \u001b[0mccfish_samples\u001b[0m \u001b[0;34m=\u001b[0m \u001b[0mwpplout\u001b[0m\u001b[0;34m.\u001b[0m\u001b[0mparse_webppl_groupformat\u001b[0m\u001b[0;34m(\u001b[0m\u001b[0;34m\"wppl/ccomb_fish.txt\"\u001b[0m\u001b[0;34m)\u001b[0m\u001b[0;34m\u001b[0m\u001b[0m\n\u001b[1;32m      3\u001b[0m \u001b[0mccpetfish_samples\u001b[0m \u001b[0;34m=\u001b[0m \u001b[0mwpplout\u001b[0m\u001b[0;34m.\u001b[0m\u001b[0mparse_webppl_groupformat\u001b[0m\u001b[0;34m(\u001b[0m\u001b[0;34m\"wppl/ccomb_petfish.txt\"\u001b[0m\u001b[0;34m)\u001b[0m\u001b[0;34m\u001b[0m\u001b[0m\n\u001b[1;32m      4\u001b[0m \u001b[0;34m\u001b[0m\u001b[0m\n\u001b[1;32m      5\u001b[0m \u001b[0mdf_ccpet\u001b[0m \u001b[0;34m=\u001b[0m \u001b[0mwpplout\u001b[0m\u001b[0;34m.\u001b[0m\u001b[0mwebppl_groupformat_featureprob\u001b[0m\u001b[0;34m(\u001b[0m\u001b[0mccpet_samples\u001b[0m\u001b[0;34m)\u001b[0m\u001b[0;34m\u001b[0m\u001b[0m\n",
      "\u001b[0;31mNameError\u001b[0m: name 'wpplout' is not defined"
     ]
    }
   ],
   "source": [
    "ccpet_samples = wpplout.parse_webppl_groupformat(\"wppl/ccomb_pet.txt\")\n",
    "ccfish_samples = wpplout.parse_webppl_groupformat(\"wppl/ccomb_fish.txt\")\n",
    "ccpetfish_samples = wpplout.parse_webppl_groupformat(\"wppl/ccomb_petfish.txt\")\n",
    "\n",
    "df_ccpet = wpplout.webppl_groupformat_featureprob(ccpet_samples)\n",
    "df_ccfish = wpplout.webppl_groupformat_featureprob(ccfish_samples)\n",
    "df_ccpetfish = wpplout.webppl_groupformat_featureprob(ccpetfish_samples)\n",
    "\n",
    "\n",
    "# combine the data frames for visualization\n",
    "viz_df = df_ccpet.merge(df_ccfish, \n",
    "                             left_on = \"feature\", \n",
    "                             right_on = \"feature\", \n",
    "                             how = \"left\").fillna(0)\n",
    "viz_df = viz_df.merge(df_ccpetfish, \n",
    "                             left_on = \"feature\", \n",
    "                             right_on = \"feature\", \n",
    "                             how = \"left\").fillna(0)\n",
    "viz_df = viz_df.set_index(\"feature\")\n",
    "viz_df.columns = [\"pet\", \"fish\", \"pet fish\"]\n",
    "\n",
    "\n",
    "# and plot\n",
    "ax = viz_df.plot.bar(title = \"Empirical feature probabilities for Pet, Fish, Pet+Fish\", \n",
    "                     rot = 0)\n",
    "ax.legend(loc='center left')\n",
    "ax.set_xlabel(\"\");"
   ]
  },
  {
   "cell_type": "markdown",
   "metadata": {},
   "source": [
    "# Final experiment: The astronomer married the star\n",
    "\n",
    "parameters:\n",
    "* 2000 samples\n",
    "* We vary the concentration parameter: **alpha = 0.5, 0.1, 0.05**\n",
    "* scenarios: Stargazing, Theatre\n",
    "* concepts: Astronomer, Star-sun, Star-person, Marry\n",
    "* features: \"astronomer\", \"marry\", \"star\", \"person\", \"object\"\n",
    "* truth probabilities for Astronomer: astronomer 1.0, marry 0.0, star 0.0, person 1.0, object 1.0\n",
    "* truth probabilities for Star-sun: astronomer 0.0, marry 0.0, star 1.0, person 0.0, object 1.0\n",
    "* truth probabilities for Star-person: astronomer 0.0, marry 0.0, star 1.0, person 1.0, object 1.0\n",
    "* role realization probabilities for Marry: Agent 1.0, Patient 1.0 (both mandatory, for simplicity)\n",
    "* selectional probabilities for Marry/Agent:  person 1.0, object 0.1\n",
    "* selectional probabilities for Marry/Patient: person 1.0, object 0.1\n",
    "* Utterance: ```exists x, y, e. astronomer(x) & marry(e) & star(y) &  Agent(e, x) &  Patient(e, y)```\n",
    "\n",
    "Data generation:\n",
    "\n",
    "alpha = 0.5: \n",
    "```webppl astronomer_married_star.wppl > astronomer_out_05.txt```\n",
    "alpha = 0.1:\n",
    "```webppl astronomer_married_star.wppl > astronomer_out_01.txt```\n",
    "\n",
    "alpha = 0.05:\n",
    "```webppl astronomer_married_star.wppl > astronomer_out_005.txt```\n",
    "\n",
    "Result:"
   ]
  },
  {
   "cell_type": "code",
   "execution_count": null,
   "metadata": {},
   "outputs": [],
   "source": [
    "def analyze_stars(samples):\n",
    "    prob_star = { }\n",
    "    for sample in samples:\n",
    "        prob, groups, roles = sample\n",
    "        for group in groups.values():\n",
    "            features = group[3]\n",
    "            if \"star\" in features:\n",
    "                conc = \"/\".join(sorted(group[2]))\n",
    "                prob_star[ conc] = prob_star.get(conc, 0) + prob\n",
    "    df = pd.DataFrame(prob_star.items())\n",
    "    df.columns = [\"concept\", \"prob\"]\n",
    "    return df\n",
    "      \n",
    "samples_a05 = analyze_stars(wpplout.parse_webppl_groupformat(\"wppl/astronomer_out_05.txt\"))\n",
    "samples_a01 = analyze_stars(wpplout.parse_webppl_groupformat(\"wppl/astronomer_out_01.txt\"))\n",
    "samples_a005 = analyze_stars(wpplout.parse_webppl_groupformat(\"wppl/astronomer_out_005.txt\"))"
   ]
  },
  {
   "cell_type": "markdown",
   "metadata": {},
   "source": [
    "Percentages for alpha = 0.5:"
   ]
  },
  {
   "cell_type": "code",
   "execution_count": null,
   "metadata": {},
   "outputs": [],
   "source": [
    "samples_a05"
   ]
  },
  {
   "cell_type": "markdown",
   "metadata": {},
   "source": [
    "Percentages for alpha = 0.1:"
   ]
  },
  {
   "cell_type": "code",
   "execution_count": null,
   "metadata": {},
   "outputs": [],
   "source": [
    "samples_a01"
   ]
  },
  {
   "cell_type": "markdown",
   "metadata": {},
   "source": [
    "Percentages for alpha = 0.05:"
   ]
  },
  {
   "cell_type": "code",
   "execution_count": null,
   "metadata": {},
   "outputs": [],
   "source": [
    "samples_a005"
   ]
  },
  {
   "cell_type": "markdown",
   "metadata": {},
   "source": [
    "Graphically:"
   ]
  },
  {
   "cell_type": "code",
   "execution_count": null,
   "metadata": {},
   "outputs": [],
   "source": [
    "viz_df = samples_a05\n",
    "viz_df = viz_df.merge(samples_a01, on = \"concept\")\n",
    "viz_df = viz_df.merge(samples_a005, on = \"concept\")\n",
    "viz_df = viz_df.set_index(\"concept\")\n",
    "viz_df.columns = [\"0.5\", \"0.1\", \"0.05\"]\n",
    "\n",
    "ax = viz_df.loc[\"Star-sun\"].plot.bar(rot = 0,\n",
    "                                title= \"Percentage Star-sun objects of 'marry' for different alpha values\")\n",
    "ax.set_xlabel(\"alpha\");"
   ]
  },
  {
   "cell_type": "markdown",
   "metadata": {},
   "source": [
    "# The vampire eats...\n",
    "\n",
    "Parameters:\n",
    "\n",
    "* utterance: exists x, e.vampire(x) & eat(e) & Agent(e, x)\n",
    "* single scenario, Gothic\n",
    "* concepts: \"Vampire\", \"Bat-animal\", \"Blood_orange\", \"Castle\", \"Eat\"\n",
    "* features: \"vampire\", \"bat\", \"blood_orange\", \"castle\", \"eat\",\n",
    "\t\t    \"animal_ish\", \"object\", \"edible\", \"building\"\n",
    "* maximal number of referents: 6\n",
    "* realization probabilities for Eat: Agent: 1.0, Patient 0.8, Location 0.4\n",
    "* selectional probabilities: \n",
    "  * Eat/Agent: animal_ish 1.0, object 0.1\n",
    "  * Eat/Patient: edible 1.0, object 0.1\n",
    "  * Eat/Location: building 1.0, object 0.05\n",
    "  \n",
    "Call: \n",
    "``webppl vampire_eats.wppl > vampire_eats_out.txt``\n"
   ]
  },
  {
   "cell_type": "code",
   "execution_count": null,
   "metadata": {},
   "outputs": [],
   "source": [
    "ve_samples = wpplout.parse_webppl_groupformat(\"wppl/vampire_eats_out.txt\")\n",
    "pd.set_option('display.max_colwidth', 1000)\n",
    "\n",
    "wpplout.webppl_groupformat_drspd(ve_samples).sort_values(\"probability\", \n",
    "                                                        ascending=False).head(20)\n"
   ]
  },
  {
   "cell_type": "code",
   "execution_count": null,
   "metadata": {},
   "outputs": [],
   "source": [
    "# details: \n",
    "# how often do we have a patient, how often do we have a location?\n",
    "# how often does the vampire eat a blood orange, a bat, another vampire\n",
    "\n",
    "def vampire_eats_showdetails(ve_samples):\n",
    "    prob_patient = 0\n",
    "    prob_location = 0\n",
    "    prob_agentonly = 0\n",
    "    prob_patient_is = { }\n",
    "    prob_location_is = { }\n",
    "\n",
    "    for sample in ve_samples:\n",
    "        prob, groups, roles = sample\n",
    "        if any(role[0] == \"Patient\" for role in roles):\n",
    "            prob_patient += prob\n",
    "        if any(role[0] == \"Location\" for role in roles):\n",
    "            prob_location += prob\n",
    "        if len(roles) == 1:\n",
    "            prob_agentonly += prob\n",
    "    \n",
    "        patients = set(\"/\".join(groups[role[2]][2]) for role in roles if role[0] == \"Patient\")\n",
    "        for patient in patients:\n",
    "            prob_patient_is[patient] = prob_patient_is.get(patient, 0) + prob\n",
    "        locations = set(\"/\".join(groups[role[2]][2]) for role in roles if role[0] == \"Location\")\n",
    "        for location in locations:\n",
    "            prob_location_is[location] = prob_location_is.get(location, 0) + prob\n",
    "    \n",
    "     \n",
    "                \n",
    "\n",
    "    print(\"Prob. of having a patient:\", round(prob_patient, 3))\n",
    "    print(\"Prob. of having a location:\", round(prob_location, 3))\n",
    "    print(\"Prob. of only having an agent:\", round(prob_agentonly, 3))\n",
    "    print(\"Summed prob. of situation descriptions with particular patients:\")\n",
    "    for patient, prob in prob_patient_is.items():\n",
    "        print(\"\\t\", patient, \":\", round(prob, 3))\n",
    "    print(\"Summed prob. of situation descriptions with particular locations:\")\n",
    "    for location, prob in prob_location_is.items():\n",
    "        print(\"\\t\", location, \":\", round(prob, 3))\n",
    "        \n",
    "vampire_eats_showdetails(ve_samples)"
   ]
  },
  {
   "cell_type": "markdown",
   "metadata": {},
   "source": [
    "The probability for realizing a patient is 0.8, but only 71% of situation descriptions have patients. Why is this? This is because finding a role filler can fail -- there may be no entity in the situation description that can fill the role. "
   ]
  },
  {
   "cell_type": "code",
   "execution_count": null,
   "metadata": {},
   "outputs": [],
   "source": []
  }
 ],
 "metadata": {
  "kernelspec": {
   "display_name": "Python 3",
   "language": "python",
   "name": "python3"
  },
  "language_info": {
   "codemirror_mode": {
    "name": "ipython",
    "version": 3
   },
   "file_extension": ".py",
   "mimetype": "text/x-python",
   "name": "python",
   "nbconvert_exporter": "python",
   "pygments_lexer": "ipython3",
   "version": "3.5.2"
  }
 },
 "nbformat": 4,
 "nbformat_minor": 2
}
